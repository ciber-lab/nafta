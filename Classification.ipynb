{
 "cells": [
  {
   "cell_type": "markdown",
   "metadata": {},
   "source": [
    "Initialization\n"
   ]
  },
  {
   "cell_type": "code",
   "execution_count": 1,
   "metadata": {},
   "outputs": [
    {
     "name": "stderr",
     "output_type": "stream",
     "text": [
      "Using TensorFlow backend.\n"
     ]
    }
   ],
   "source": [
    "import os\n",
    "from keras import layers, models, optimizers\n",
    "from keras.preprocessing.image import ImageDataGenerator\n",
    "from keras.applications import VGG16\n",
    "import matplotlib.pyplot as plt\n",
    "%matplotlib inline"
   ]
  },
  {
   "cell_type": "markdown",
   "metadata": {},
   "source": [
    "**Data Preparation**\n",
    "\n"
   ]
  },
  {
   "cell_type": "code",
   "execution_count": 2,
   "metadata": {},
   "outputs": [
    {
     "name": "stdout",
     "output_type": "stream",
     "text": [
      "Found 591 images belonging to 2 classes.\n",
      "Found 148 images belonging to 2 classes.\n",
      "Found 184 images belonging to 2 classes.\n"
     ]
    }
   ],
   "source": [
    "train_dir =  'train'\n",
    "validation_dir = 'valid'\n",
    "test_dir = 'test'\n",
    "num_train = 591\n",
    "num_valid = 148\n",
    "num_test = 184\n",
    "batch_size = 7\n",
    "# Generate train data with augmentation\n",
    "train_datagen = ImageDataGenerator(\n",
    "    rescale=1./255,\n",
    "    rotation_range=10,\n",
    "    width_shift_range=0.1,\n",
    "    height_shift_range=0.1,\n",
    "    shear_range=0.1,\n",
    "    zoom_range=0.1,\n",
    "    horizontal_flip=True)\n",
    "\n",
    "test_datagen = ImageDataGenerator(rescale=1./255)\n",
    "\n",
    "\n",
    "\n",
    "train_generator = train_datagen.flow_from_directory(\n",
    "    train_dir,\n",
    "    target_size=(150, 150), # resizing the images\n",
    "    batch_size=batch_size,\n",
    "    class_mode='binary')\n",
    "\n",
    "validation_generator = test_datagen.flow_from_directory(\n",
    "    validation_dir,\n",
    "    target_size=(150, 150), # resizing the images\n",
    "    batch_size=batch_size,\n",
    "    class_mode='binary')\n",
    "\n",
    "test_generator = test_datagen.flow_from_directory(\n",
    "    test_dir,\n",
    "    target_size=(150, 150),\n",
    "    batch_size=batch_size,\n",
    "    class_mode='binary')\n",
    "\n",
    "\n",
    "\n"
   ]
  },
  {
   "cell_type": "markdown",
   "metadata": {},
   "source": [
    "**Building the Model**"
   ]
  },
  {
   "cell_type": "code",
   "execution_count": 3,
   "metadata": {},
   "outputs": [
    {
     "name": "stdout",
     "output_type": "stream",
     "text": [
      "WARNING:tensorflow:From /Users/MAC/anaconda3/envs/Keras/lib/python3.6/site-packages/tensorflow/python/framework/op_def_library.py:263: colocate_with (from tensorflow.python.framework.ops) is deprecated and will be removed in a future version.\n",
      "Instructions for updating:\n",
      "Colocations handled automatically by placer.\n",
      "_________________________________________________________________\n",
      "Layer (type)                 Output Shape              Param #   \n",
      "=================================================================\n",
      "vgg16 (Model)                (None, 4, 4, 512)         14714688  \n",
      "_________________________________________________________________\n",
      "flatten_1 (Flatten)          (None, 8192)              0         \n",
      "_________________________________________________________________\n",
      "dense_1 (Dense)              (None, 256)               2097408   \n",
      "_________________________________________________________________\n",
      "dense_2 (Dense)              (None, 1)                 257       \n",
      "=================================================================\n",
      "Total params: 16,812,353\n",
      "Trainable params: 16,812,353\n",
      "Non-trainable params: 0\n",
      "_________________________________________________________________\n"
     ]
    }
   ],
   "source": [
    "conv_base = VGG16(weights='imagenet',\n",
    "                  include_top=False,\n",
    "                  input_shape=(150, 150, 3))\n",
    "\n",
    "model = models.Sequential()\n",
    "model.add(conv_base)\n",
    "model.add(layers.Flatten())\n",
    "model.add(layers.Dense(256, activation='relu'))\n",
    "model.add(layers.Dense(1, activation='sigmoid'))\n",
    "\n",
    "model.summary()"
   ]
  },
  {
   "cell_type": "markdown",
   "metadata": {},
   "source": [
    "**Training**\n"
   ]
  },
  {
   "cell_type": "code",
   "execution_count": 4,
   "metadata": {},
   "outputs": [
    {
     "name": "stdout",
     "output_type": "stream",
     "text": [
      "WARNING:tensorflow:From /Users/MAC/anaconda3/envs/Keras/lib/python3.6/site-packages/tensorflow/python/ops/math_ops.py:3066: to_int32 (from tensorflow.python.ops.math_ops) is deprecated and will be removed in a future version.\n",
      "Instructions for updating:\n",
      "Use tf.cast instead.\n",
      "Epoch 1/30\n",
      "84/84 [==============================] - 276s 3s/step - loss: 0.8144 - acc: 0.6480 - val_loss: 0.7543 - val_acc: 0.5646\n",
      "Epoch 2/30\n",
      "84/84 [==============================] - 265s 3s/step - loss: 0.5240 - acc: 0.7409 - val_loss: 0.8931 - val_acc: 0.6028\n",
      "Epoch 3/30\n",
      "84/84 [==============================] - 270s 3s/step - loss: 0.5085 - acc: 0.7613 - val_loss: 0.3752 - val_acc: 0.8582\n",
      "Epoch 4/30\n",
      "84/84 [==============================] - 266s 3s/step - loss: 0.4222 - acc: 0.8169 - val_loss: 0.2726 - val_acc: 0.9007\n",
      "Epoch 5/30\n",
      "84/84 [==============================] - 270s 3s/step - loss: 0.3619 - acc: 0.8367 - val_loss: 0.4202 - val_acc: 0.8369\n",
      "Epoch 6/30\n",
      "84/84 [==============================] - 266s 3s/step - loss: 0.3676 - acc: 0.8452 - val_loss: 0.7619 - val_acc: 0.6738\n",
      "Epoch 7/30\n",
      "84/84 [==============================] - 274s 3s/step - loss: 0.3266 - acc: 0.8605 - val_loss: 0.3757 - val_acc: 0.8298\n",
      "Epoch 8/30\n",
      "84/84 [==============================] - 265s 3s/step - loss: 0.3051 - acc: 0.8719 - val_loss: 0.8010 - val_acc: 0.7163\n",
      "Epoch 9/30\n",
      "84/84 [==============================] - 263s 3s/step - loss: 0.2524 - acc: 0.8928 - val_loss: 0.6535 - val_acc: 0.7589\n",
      "Epoch 10/30\n",
      "84/84 [==============================] - 271s 3s/step - loss: 0.2905 - acc: 0.8731 - val_loss: 0.8252 - val_acc: 0.7943\n",
      "Epoch 11/30\n",
      "84/84 [==============================] - 269s 3s/step - loss: 0.2732 - acc: 0.8855 - val_loss: 0.2565 - val_acc: 0.9220\n",
      "Epoch 12/30\n",
      "84/84 [==============================] - 269s 3s/step - loss: 0.2314 - acc: 0.9031 - val_loss: 0.4109 - val_acc: 0.8369\n",
      "Epoch 13/30\n",
      "84/84 [==============================] - 269s 3s/step - loss: 0.2572 - acc: 0.9048 - val_loss: 0.2822 - val_acc: 0.8865\n",
      "Epoch 14/30\n",
      "84/84 [==============================] - 269s 3s/step - loss: 0.2460 - acc: 0.8940 - val_loss: 0.3383 - val_acc: 0.8582\n",
      "Epoch 15/30\n",
      "84/84 [==============================] - 272s 3s/step - loss: 0.1982 - acc: 0.9246 - val_loss: 0.3052 - val_acc: 0.8936\n",
      "Epoch 16/30\n",
      "84/84 [==============================] - 263s 3s/step - loss: 0.1925 - acc: 0.9235 - val_loss: 0.7201 - val_acc: 0.8014\n",
      "Epoch 17/30\n",
      "84/84 [==============================] - 262s 3s/step - loss: 0.1717 - acc: 0.9286 - val_loss: 0.4166 - val_acc: 0.8723\n",
      "Epoch 18/30\n",
      "84/84 [==============================] - 487s 6s/step - loss: 0.1966 - acc: 0.9297 - val_loss: 0.3736 - val_acc: 0.8652\n",
      "Epoch 19/30\n",
      "84/84 [==============================] - 261s 3s/step - loss: 0.1400 - acc: 0.9422 - val_loss: 0.3993 - val_acc: 0.8865\n",
      "Epoch 20/30\n",
      "84/84 [==============================] - 262s 3s/step - loss: 0.1986 - acc: 0.9167 - val_loss: 0.3878 - val_acc: 0.8794\n",
      "Epoch 21/30\n",
      "84/84 [==============================] - 264s 3s/step - loss: 0.1505 - acc: 0.9371 - val_loss: 0.3636 - val_acc: 0.9007\n",
      "Epoch 22/30\n",
      "84/84 [==============================] - 698s 8s/step - loss: 0.1972 - acc: 0.9212 - val_loss: 0.3499 - val_acc: 0.8723\n",
      "Epoch 23/30\n",
      "84/84 [==============================] - 265s 3s/step - loss: 0.1304 - acc: 0.9473 - val_loss: 0.3215 - val_acc: 0.9184\n",
      "Epoch 24/30\n",
      "84/84 [==============================] - 263s 3s/step - loss: 0.1375 - acc: 0.9484 - val_loss: 0.3072 - val_acc: 0.8794\n",
      "Epoch 25/30\n",
      "84/84 [==============================] - 262s 3s/step - loss: 0.1158 - acc: 0.9558 - val_loss: 0.4486 - val_acc: 0.8794\n",
      "Epoch 26/30\n",
      "84/84 [==============================] - 261s 3s/step - loss: 0.1394 - acc: 0.9456 - val_loss: 0.3547 - val_acc: 0.9078\n",
      "Epoch 27/30\n",
      "84/84 [==============================] - 263s 3s/step - loss: 0.1117 - acc: 0.9501 - val_loss: 0.3546 - val_acc: 0.9078\n",
      "Epoch 28/30\n",
      "84/84 [==============================] - 262s 3s/step - loss: 0.1220 - acc: 0.9456 - val_loss: 0.5292 - val_acc: 0.8723\n",
      "Epoch 29/30\n",
      "84/84 [==============================] - 265s 3s/step - loss: 0.1434 - acc: 0.9439 - val_loss: 0.2536 - val_acc: 0.9149\n",
      "Epoch 30/30\n",
      "84/84 [==============================] - 309s 4s/step - loss: 0.1092 - acc: 0.9575 - val_loss: 0.6162 - val_acc: 0.8723\n"
     ]
    },
    {
     "data": {
      "image/png": "[encoded data removed]",
      "text/plain": [
       "<Figure size 432x288 with 1 Axes>"
      ]
     },
     "metadata": {
      "needs_background": "light"
     },
     "output_type": "display_data"
    },
    {
     "data": {
      "image/png": "[encoded data removed]",
      "text/plain": [
       "<Figure size 432x288 with 1 Axes>"
      ]
     },
     "metadata": {
      "needs_background": "light"
     },
     "output_type": "display_data"
    }
   ],
   "source": [
    "\n",
    "conv_base.trainable = False # Freeze the VGG-16 base layers\n",
    "\n",
    "model.compile(loss='binary_crossentropy',\n",
    "              optimizer=optimizers.RMSprop(lr=1e-3),\n",
    "              metrics=['acc'])\n",
    "\n",
    "history = model.fit_generator(\n",
    "    train_generator,\n",
    "    steps_per_epoch  = max(1, num_train//batch_size),\n",
    "    epochs=30,\n",
    "    validation_data=validation_generator,\n",
    "    validation_steps = max(1, num_valid//batch_size)\n",
    "    )\n",
    "\n",
    "## Display the training loss and accuracy\n",
    "\n",
    "# Smoothing the plot using moving average\n",
    "def smooth_curve(points, factor=0.8):\n",
    "    smoothed_points = []\n",
    "    for point in points:\n",
    "        if smoothed_points:\n",
    "            previous = smoothed_points[-1]\n",
    "            smoothed_points.append(previous * factor + point * (1 - factor))\n",
    "        else:\n",
    "            smoothed_points.append(point)\n",
    "    return smoothed_points\n",
    "\n",
    "acc = history.history['acc']\n",
    "val_acc = history.history['val_acc']\n",
    "loss = history.history['loss']\n",
    "val_loss = history.history['val_loss']\n",
    "epochs = range(1, len(acc) + 1)\n",
    "plt.plot(epochs, smooth_curve(acc), 'bo', label='Smoothed training acc')\n",
    "plt.plot(epochs, smooth_curve(val_acc), 'b', label='Smoothed validation acc')\n",
    "plt.title('Retraining: Training and validation accuracy')\n",
    "plt.legend()\n",
    "plt.figure()\n",
    "plt.plot(epochs, smooth_curve(loss), 'bo', label='Smoothed training loss')\n",
    "plt.plot(epochs, smooth_curve(val_loss), 'b', label='Smoothed validation loss')\n",
    "plt.title('Retraining: Training and validation loss')\n",
    "plt.legend()\n",
    "plt.show()"
   ]
  },
  {
   "cell_type": "code",
   "execution_count": 5,
   "metadata": {},
   "outputs": [],
   "source": [
    "model.save('Spill-Classificationstage1.h5')"
   ]
  },
  {
   "cell_type": "code",
   "execution_count": 6,
   "metadata": {},
   "outputs": [],
   "source": [
    "model.load_weights('Spill-Classificationstage1.h5')"
   ]
  },
  {
   "cell_type": "markdown",
   "metadata": {},
   "source": [
    "**Fine-Tuning**"
   ]
  },
  {
   "cell_type": "code",
   "execution_count": 7,
   "metadata": {},
   "outputs": [
    {
     "name": "stdout",
     "output_type": "stream",
     "text": [
      "Epoch 1/30\n",
      "84/84 [==============================] - 513s 6s/step - loss: 0.7577 - acc: 0.8282 - val_loss: 0.5313 - val_acc: 0.8865\n",
      "Epoch 2/30\n",
      "84/84 [==============================] - 21512s 256s/step - loss: 0.3069 - acc: 0.8957 - val_loss: 0.6387 - val_acc: 0.8156\n",
      "Epoch 3/30\n",
      "84/84 [==============================] - 499s 6s/step - loss: 0.2264 - acc: 0.9354 - val_loss: 0.2349 - val_acc: 0.9362\n",
      "Epoch 4/30\n",
      "84/84 [==============================] - 516s 6s/step - loss: 0.1657 - acc: 0.9320 - val_loss: 0.7803 - val_acc: 0.8231\n",
      "Epoch 5/30\n",
      "84/84 [==============================] - 499s 6s/step - loss: 0.1437 - acc: 0.9558 - val_loss: 0.5605 - val_acc: 0.8582\n",
      "Epoch 6/30\n",
      "84/84 [==============================] - 500s 6s/step - loss: 0.1423 - acc: 0.9558 - val_loss: 0.4442 - val_acc: 0.9149\n",
      "Epoch 7/30\n",
      "84/84 [==============================] - 502s 6s/step - loss: 0.1102 - acc: 0.9688 - val_loss: 0.6899 - val_acc: 0.8865\n",
      "Epoch 8/30\n",
      "84/84 [==============================] - 500s 6s/step - loss: 0.1102 - acc: 0.9728 - val_loss: 0.4573 - val_acc: 0.8652\n",
      "Epoch 9/30\n",
      "84/84 [==============================] - 501s 6s/step - loss: 0.0637 - acc: 0.9796 - val_loss: 0.5261 - val_acc: 0.9433\n",
      "Epoch 10/30\n",
      "84/84 [==============================] - 499s 6s/step - loss: 0.0815 - acc: 0.9796 - val_loss: 0.3322 - val_acc: 0.9433\n",
      "Epoch 11/30\n",
      "84/84 [==============================] - 503s 6s/step - loss: 0.0462 - acc: 0.9898 - val_loss: 0.6084 - val_acc: 0.8936\n",
      "Epoch 12/30\n",
      "84/84 [==============================] - 499s 6s/step - loss: 0.0489 - acc: 0.9847 - val_loss: 0.5413 - val_acc: 0.9149\n",
      "Epoch 13/30\n",
      "84/84 [==============================] - 498s 6s/step - loss: 0.0532 - acc: 0.9847 - val_loss: 0.9156 - val_acc: 0.9007\n",
      "Epoch 14/30\n",
      "84/84 [==============================] - 499s 6s/step - loss: 0.0943 - acc: 0.9796 - val_loss: 0.1839 - val_acc: 0.9433\n",
      "Epoch 15/30\n",
      "84/84 [==============================] - 498s 6s/step - loss: 0.0220 - acc: 0.9949 - val_loss: 0.5254 - val_acc: 0.9149\n",
      "Epoch 16/30\n",
      "84/84 [==============================] - 511s 6s/step - loss: 0.0308 - acc: 0.9949 - val_loss: 0.3915 - val_acc: 0.9504\n",
      "Epoch 17/30\n",
      "84/84 [==============================] - 509s 6s/step - loss: 0.0658 - acc: 0.9864 - val_loss: 0.6222 - val_acc: 0.9078\n",
      "Epoch 18/30\n",
      "84/84 [==============================] - 509s 6s/step - loss: 0.0122 - acc: 0.9949 - val_loss: 0.8199 - val_acc: 0.9078\n",
      "Epoch 19/30\n",
      "84/84 [==============================] - 509s 6s/step - loss: 0.1058 - acc: 0.9881 - val_loss: 0.5039 - val_acc: 0.8936\n",
      "Epoch 20/30\n",
      "84/84 [==============================] - 505s 6s/step - loss: 0.0960 - acc: 0.9847 - val_loss: 1.0484 - val_acc: 0.8652\n",
      "Epoch 21/30\n",
      "84/84 [==============================] - 497s 6s/step - loss: 0.0689 - acc: 0.9813 - val_loss: 0.3494 - val_acc: 0.9007\n",
      "Epoch 22/30\n",
      "84/84 [==============================] - 499s 6s/step - loss: 0.0135 - acc: 0.9932 - val_loss: 0.4345 - val_acc: 0.9291\n",
      "Epoch 23/30\n",
      "84/84 [==============================] - 498s 6s/step - loss: 0.0129 - acc: 0.9949 - val_loss: 0.4296 - val_acc: 0.9291\n",
      "Epoch 24/30\n",
      "84/84 [==============================] - 501s 6s/step - loss: 0.0495 - acc: 0.9949 - val_loss: 0.3456 - val_acc: 0.9291\n",
      "Epoch 25/30\n",
      "84/84 [==============================] - 499s 6s/step - loss: 0.0105 - acc: 0.9966 - val_loss: 2.2060 - val_acc: 0.7447\n",
      "Epoch 26/30\n",
      "84/84 [==============================] - 501s 6s/step - loss: 0.0457 - acc: 0.9949 - val_loss: 0.5254 - val_acc: 0.9184\n",
      "Epoch 27/30\n",
      "84/84 [==============================] - 500s 6s/step - loss: 0.0117 - acc: 0.9949 - val_loss: 0.3143 - val_acc: 0.9504\n",
      "Epoch 28/30\n",
      "84/84 [==============================] - 530s 6s/step - loss: 0.0089 - acc: 0.9966 - val_loss: 0.7116 - val_acc: 0.9078\n",
      "Epoch 29/30\n",
      "84/84 [==============================] - 498s 6s/step - loss: 0.0432 - acc: 0.9932 - val_loss: 0.2892 - val_acc: 0.9220\n",
      "Epoch 30/30\n",
      "84/84 [==============================] - 497s 6s/step - loss: 0.0617 - acc: 0.9898 - val_loss: 0.5153 - val_acc: 0.9149\n"
     ]
    },
    {
     "data": {
      "image/png": "[encoded data removed]",
      "text/plain": [
       "<Figure size 432x288 with 1 Axes>"
      ]
     },
     "metadata": {
      "needs_background": "light"
     },
     "output_type": "display_data"
    },
    {
     "data": {
      "image/png": "[encoded data removed]",
      "text/plain": [
       "<Figure size 432x288 with 1 Axes>"
      ]
     },
     "metadata": {
      "needs_background": "light"
     },
     "output_type": "display_data"
    }
   ],
   "source": [
    "conv_base.trainable = True # Freeze the VGG-16 base layers\n",
    "\n",
    "model.compile(loss='binary_crossentropy',\n",
    "              optimizer=optimizers.RMSprop(lr=2e-5),\n",
    "              metrics=['acc'])\n",
    "\n",
    "history = model.fit_generator(\n",
    "    train_generator,\n",
    "    steps_per_epoch  = max(1, num_train//batch_size),\n",
    "    epochs=30,\n",
    "    validation_data=validation_generator,\n",
    "    validation_steps = max(1, num_valid//batch_size)\n",
    "    )\n",
    "\n",
    "## Display the training loss and accuracy\n",
    "\n",
    "# Smoothing the plot using moving average\n",
    "def smooth_curve(points, factor=0.8):\n",
    "    smoothed_points = []\n",
    "    for point in points:\n",
    "        if smoothed_points:\n",
    "            previous = smoothed_points[-1]\n",
    "            smoothed_points.append(previous * factor + point * (1 - factor))\n",
    "        else:\n",
    "            smoothed_points.append(point)\n",
    "    return smoothed_points\n",
    "\n",
    "acc = history.history['acc']\n",
    "val_acc = history.history['val_acc']\n",
    "loss = history.history['loss']\n",
    "val_loss = history.history['val_loss']\n",
    "epochs = range(1, len(acc) + 1)\n",
    "plt.plot(epochs, smooth_curve(acc), 'bo', label='Smoothed training acc')\n",
    "plt.plot(epochs, smooth_curve(val_acc), 'b', label='Smoothed validation acc')\n",
    "plt.title('Retraining: Training and validation accuracy')\n",
    "plt.legend()\n",
    "plt.figure()\n",
    "plt.plot(epochs, smooth_curve(loss), 'bo', label='Smoothed training loss')\n",
    "plt.plot(epochs, smooth_curve(val_loss), 'b', label='Smoothed validation loss')\n",
    "plt.title('Retraining: Training and validation loss')\n",
    "plt.legend()\n",
    "plt.show()\n",
    "\n",
    "model.save('Spill-Classification.h5')"
   ]
  },
  {
   "cell_type": "markdown",
   "metadata": {},
   "source": [
    "**Testing**"
   ]
  },
  {
   "cell_type": "code",
   "execution_count": 8,
   "metadata": {},
   "outputs": [
    {
     "name": "stdout",
     "output_type": "stream",
     "text": [
      "test acc: 0.9450549483299255\n",
      "test loss: 0.27921707831984904\n"
     ]
    }
   ],
   "source": [
    "test_loss, test_acc = model.evaluate_generator(test_generator, steps=max(1, num_test//batch_size))\n",
    "print('test acc:', test_acc)\n",
    "print('test loss:', test_loss)"
   ]
  },
  {
   "cell_type": "markdown",
   "metadata": {},
   "source": [
    "**Get Confusion Matrix**\n"
   ]
  },
  {
   "cell_type": "code",
   "execution_count": 11,
   "metadata": {},
   "outputs": [
    {
     "name": "stdout",
     "output_type": "stream",
     "text": [
      "Found 184 images belonging to 2 classes.\n",
      "Confusion Matrix\n",
      "[[83  1]\n",
      " [10 90]]\n"
     ]
    }
   ],
   "source": [
    "from sklearn.metrics import classification_report, confusion_matrix\n",
    "import cv2, os\n",
    "import numpy as np\n",
    "from keras.preprocessing.image import ImageDataGenerator\n",
    "from keras.models import load_model, Model\n",
    "\n",
    "model = load_model('Spill-Classification.h5')\n",
    "\n",
    "target_size = (150,150)\n",
    "\n",
    "test_dir = 'test'\n",
    "num_test = 184\n",
    "\n",
    "test_datagen = ImageDataGenerator(rescale=1./255)\n",
    "test_generator = test_datagen.flow_from_directory(\n",
    "    test_dir,\n",
    "    target_size=target_size,\n",
    "    batch_size=1,\n",
    "    shuffle=False,\n",
    "    class_mode='binary')\n",
    "\n",
    "Y_pred = model.predict_generator(test_generator, steps=num_test)\n",
    "y_pred = Y_pred > 0.5\n",
    "\n",
    "print('Confusion Matrix')\n",
    "y_test = test_generator.classes\n",
    "print(confusion_matrix(y_test, y_pred))"
   ]
  },
  {
   "cell_type": "code",
   "execution_count": null,
   "metadata": {},
   "outputs": [],
   "source": []
  }
 ],
 "metadata": {
  "kernelspec": {
   "display_name": "Python 3",
   "language": "python",
   "name": "python3"
  },
  "language_info": {
   "codemirror_mode": {
    "name": "ipython",
    "version": 3
   },
   "file_extension": ".py",
   "mimetype": "text/x-python",
   "name": "python",
   "nbconvert_exporter": "python",
   "pygments_lexer": "ipython3",
   "version": "3.6.8"
  }
 },
 "nbformat": 4,
 "nbformat_minor": 2
}
